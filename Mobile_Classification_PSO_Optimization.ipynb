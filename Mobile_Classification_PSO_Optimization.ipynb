{
 "cells": [
  {
   "cell_type": "code",
   "execution_count": 18,
   "metadata": {},
   "outputs": [],
   "source": [
    "import pandas as pd\n",
    "from pyswarm import pso\n",
    "\n",
    "from helpers import preprocess_data, fit_and_test \n",
    "from data_structures import PreprocessingConfiguration, DataHolder\n",
    "\n",
    "from sklearn.preprocessing import StandardScaler\n",
    "from sklearn.preprocessing import MinMaxScaler\n",
    "from sklearn.decomposition import PCA\n",
    "\n",
    "from sklearn.linear_model import LogisticRegression\n",
    "from sklearn.tree import DecisionTreeClassifier\n",
    "from sklearn.ensemble import RandomForestClassifier\n",
    "from sklearn.neighbors import KNeighborsClassifier\n",
    "from sklearn.svm import SVC\n",
    "from sklearn.svm import LinearSVC\n",
    "from sklearn.svm import NuSVC"
   ]
  },
  {
   "cell_type": "code",
   "execution_count": 19,
   "metadata": {},
   "outputs": [],
   "source": [
    "phones_data = pd.read_csv('./train.csv')"
   ]
  },
  {
   "cell_type": "code",
   "execution_count": 20,
   "metadata": {},
   "outputs": [],
   "source": [
    "config = PreprocessingConfiguration([PCA(n_components=5), StandardScaler()])\n",
    "X_tr, X_tst, y_tr, y_tst = preprocess_data(phones_data, config)\n",
    "learn_data = DataHolder(X_tr, y_tr)"
   ]
  },
  {
   "cell_type": "code",
   "execution_count": 21,
   "metadata": {},
   "outputs": [
    {
     "name": "stdout",
     "output_type": "stream",
     "text": [
      "Stopping search: maximum iterations reached --> 1\n",
      "The optimum is at:\n",
      "    [980.55400079]\n",
      "Optimal function value:\n",
      "    myfunc: -0.9731250000000001\n"
     ]
    }
   ],
   "source": [
    "def logisticRegressionPso(x):\n",
    "    logisticRegressionClf = LogisticRegression(C=x[0],\n",
    "                                               random_state=1,\n",
    "                                               solver='lbfgs',\n",
    "                                               multi_class='auto',\n",
    "                                               n_jobs=-1)\n",
    "    return - fit_and_test(logisticRegressionClf, 'LogisticRegression', learn_data)\n",
    "    \n",
    "    \n",
    "lb = [0.001]\n",
    "ub = [1000]\n",
    "xopt, fopt = pso(logisticRegressionPso, lb, ub, omega=0.6, phip=0.6, phig=0.6, maxiter=100, swarmsize=200)\n",
    "\n",
    "\n",
    "print('The optimum is at:')\n",
    "print('    {}'.format(xopt))\n",
    "print('Optimal function value:')\n",
    "print('    myfunc: {}'.format(fopt))"
   ]
  },
  {
   "cell_type": "code",
   "execution_count": null,
   "metadata": {},
   "outputs": [],
   "source": [
    "def decisionTreePso(x):\n",
    "    crt = 'entropy' if x[0] > 0.5 else 'gini'\n",
    "    decisionTreeClf = DecisionTreeClassifier(criterion=crt,\n",
    "                                             max_depth=int(x[1]),\n",
    "                                             min_samples_leaf=int(x[2]),\n",
    "                                             min_samples_split=int(x[3]),\n",
    "                                             random_state=1)\n",
    "    return - fit_and_test(decisionTreeClf, 'DecisionTreeClassifier', learn_data)\n",
    "    \n",
    "lb = [0, 10, 2, 2]\n",
    "ub = [1, 300, 15, 10]\n",
    "xopt, fopt = pso(decisionTreePso, lb, ub, omega=0.6, phip=0.6, phig=0.6, maxiter=100, swarmsize=200)\n",
    "\n",
    "print('The optimum is at:')\n",
    "print('    {}'.format(xopt))\n",
    "print('Optimal function value:')\n",
    "print('    myfunc: {}'.format(fopt))"
   ]
  },
  {
   "cell_type": "code",
   "execution_count": null,
   "metadata": {},
   "outputs": [],
   "source": [
    "def randomForestPso(x):\n",
    "    crt = 'entropy' if x[0] > 0.5 else 'gini'\n",
    "    randomForestClf = RandomForestClassifier(criterion=crt,\n",
    "                                             n_estimators=int(x[1]),\n",
    "                                             min_samples_leaf=int(x[2]),\n",
    "                                             min_samples_split=int(x[3]),\n",
    "                                             random_state=1,\n",
    "                                             n_jobs=-1)\n",
    "\n",
    "    return - fit_and_test(randomForestClf, 'RandomForestClassifier', learn_data)\n",
    "    \n",
    "lb = [0, 10, 2, 2]\n",
    "ub = [1, 300, 15, 10]\n",
    "xopt, fopt = pso(randomForestPso, lb, ub, omega=0.6, phip=0.6, phig=0.6, maxiter=100, swarmsize=200)\n",
    "\n",
    "print('The optimum is at:')\n",
    "print('    {}'.format(xopt))\n",
    "print('Optimal function value:')\n",
    "print('    myfunc: {}'.format(fopt))"
   ]
  },
  {
   "cell_type": "code",
   "execution_count": null,
   "metadata": {},
   "outputs": [],
   "source": [
    "def kNeighborsPso(x):\n",
    "    metrics_list = ['euclidean', 'manhattan', 'chebyshev']\n",
    "    weig = 'uniform' if x[2] > 0.5 else 'distance'\n",
    "    kNeighborsClf = KNeighborsClassifier(n_neighbors=int(x[0]),\n",
    "                                         metric=metrics_list[int(x[1])],\n",
    "                                         weights=weig,\n",
    "                                         n_jobs=-1)\n",
    "\n",
    "    return - fit_and_test(kNeighborsClf, 'KNeighborsClassifier', learn_data)\n",
    "    \n",
    "lb = [3, 0, 0]\n",
    "ub = [15, 2.99, 1]\n",
    "xopt, fopt = pso(kNeighborsPso, lb, ub, omega=0.6, phip=0.6, phig=0.6, maxiter=100, swarmsize=100)\n",
    "\n",
    "print('The optimum is at:')\n",
    "print('    {}'.format(xopt))\n",
    "print('Optimal function value:')\n",
    "print('    myfunc: {}'.format(fopt))"
   ]
  },
  {
   "cell_type": "code",
   "execution_count": null,
   "metadata": {},
   "outputs": [],
   "source": [
    "def svcPso(x):\n",
    "    kernels_list = ['linear', 'rbf', 'poly', 'sigmoid']\n",
    "    svcClf = SVC(C=x[0],\n",
    "                 kernel=kernels_list[int(x[1])],\n",
    "                 degree=int(x[2]),\n",
    "                 gamma=x[3],\n",
    "                 random_state=1)\n",
    "\n",
    "    return - fit_and_test(svcClf, 'SVC', learn_data)\n",
    "    \n",
    "lb = [0.1, 0, 1, 0.01]\n",
    "ub = [100, 3.99, 10, 2]\n",
    "xopt, fopt = pso(svcPso, lb, ub, omega=0.6, phip=0.6, phig=0.6, maxiter=100, swarmsize=100)\n",
    "\n",
    "print('The optimum is at:')\n",
    "print('    {}'.format(xopt))\n",
    "print('Optimal function value:')\n",
    "print('    myfunc: {}'.format(fopt))"
   ]
  },
  {
   "cell_type": "code",
   "execution_count": null,
   "metadata": {},
   "outputs": [],
   "source": [
    "def linearSVCPso(x):\n",
    "    loss = 'hinge' if x[0] > 0.5 else 'squared_hinge'\n",
    "    linearSVCClf = LinearSVC(loss=loss,\n",
    "                             C=x[1],\n",
    "                             max_iter=2000,\n",
    "                             random_state=1)\n",
    "\n",
    "    return - fit_and_test(linearSVCClf, 'LinearSVC', learn_data)\n",
    "    \n",
    "lb = [0, 0.1]\n",
    "ub = [1, 100]\n",
    "xopt, fopt = pso(linearSVCPso, lb, ub, omega=0.6, phip=0.6, phig=0.6, maxiter=100, swarmsize=200)\n",
    "\n",
    "print('The optimum is at:')\n",
    "print('    {}'.format(xopt))\n",
    "print('Optimal function value:')\n",
    "print('    myfunc: {}'.format(fopt))"
   ]
  },
  {
   "cell_type": "code",
   "execution_count": 13,
   "metadata": {},
   "outputs": [
    {
     "name": "stderr",
     "output_type": "stream",
     "text": [
      "C:\\Users\\Filip\\AppData\\Roaming\\Python\\Python37\\site-packages\\sklearn\\svm\\base.py:244: ConvergenceWarning: Solver terminated early (max_iter=10000).  Consider pre-processing your data with StandardScaler or MinMaxScaler.\n",
      "  % self.max_iter, ConvergenceWarning)\n",
      "C:\\Users\\Filip\\AppData\\Roaming\\Python\\Python37\\site-packages\\sklearn\\svm\\base.py:244: ConvergenceWarning: Solver terminated early (max_iter=10000).  Consider pre-processing your data with StandardScaler or MinMaxScaler.\n",
      "  % self.max_iter, ConvergenceWarning)\n",
      "C:\\Users\\Filip\\AppData\\Roaming\\Python\\Python37\\site-packages\\sklearn\\svm\\base.py:244: ConvergenceWarning: Solver terminated early (max_iter=10000).  Consider pre-processing your data with StandardScaler or MinMaxScaler.\n",
      "  % self.max_iter, ConvergenceWarning)\n",
      "C:\\Users\\Filip\\AppData\\Roaming\\Python\\Python37\\site-packages\\sklearn\\svm\\base.py:244: ConvergenceWarning: Solver terminated early (max_iter=10000).  Consider pre-processing your data with StandardScaler or MinMaxScaler.\n",
      "  % self.max_iter, ConvergenceWarning)\n",
      "C:\\Users\\Filip\\AppData\\Roaming\\Python\\Python37\\site-packages\\sklearn\\svm\\base.py:244: ConvergenceWarning: Solver terminated early (max_iter=10000).  Consider pre-processing your data with StandardScaler or MinMaxScaler.\n",
      "  % self.max_iter, ConvergenceWarning)\n",
      "C:\\Users\\Filip\\AppData\\Roaming\\Python\\Python37\\site-packages\\sklearn\\svm\\base.py:244: ConvergenceWarning: Solver terminated early (max_iter=10000).  Consider pre-processing your data with StandardScaler or MinMaxScaler.\n",
      "  % self.max_iter, ConvergenceWarning)\n",
      "C:\\Users\\Filip\\AppData\\Roaming\\Python\\Python37\\site-packages\\sklearn\\svm\\base.py:244: ConvergenceWarning: Solver terminated early (max_iter=10000).  Consider pre-processing your data with StandardScaler or MinMaxScaler.\n",
      "  % self.max_iter, ConvergenceWarning)\n",
      "C:\\Users\\Filip\\AppData\\Roaming\\Python\\Python37\\site-packages\\sklearn\\svm\\base.py:244: ConvergenceWarning: Solver terminated early (max_iter=10000).  Consider pre-processing your data with StandardScaler or MinMaxScaler.\n",
      "  % self.max_iter, ConvergenceWarning)\n",
      "C:\\Users\\Filip\\AppData\\Roaming\\Python\\Python37\\site-packages\\sklearn\\svm\\base.py:244: ConvergenceWarning: Solver terminated early (max_iter=10000).  Consider pre-processing your data with StandardScaler or MinMaxScaler.\n",
      "  % self.max_iter, ConvergenceWarning)\n",
      "C:\\Users\\Filip\\AppData\\Roaming\\Python\\Python37\\site-packages\\sklearn\\svm\\base.py:244: ConvergenceWarning: Solver terminated early (max_iter=10000).  Consider pre-processing your data with StandardScaler or MinMaxScaler.\n",
      "  % self.max_iter, ConvergenceWarning)\n"
     ]
    },
    {
     "ename": "KeyboardInterrupt",
     "evalue": "",
     "output_type": "error",
     "traceback": [
      "\u001b[1;31m---------------------------------------------------------------------------\u001b[0m",
      "\u001b[1;31mKeyboardInterrupt\u001b[0m                         Traceback (most recent call last)",
      "\u001b[1;32m<ipython-input-13-e748daf2f339>\u001b[0m in \u001b[0;36m<module>\u001b[1;34m\u001b[0m\n\u001b[0;32m     12\u001b[0m \u001b[0mlb\u001b[0m \u001b[1;33m=\u001b[0m \u001b[1;33m[\u001b[0m\u001b[1;36m0.01\u001b[0m\u001b[1;33m,\u001b[0m \u001b[1;36m0\u001b[0m\u001b[1;33m,\u001b[0m \u001b[1;36m1\u001b[0m\u001b[1;33m,\u001b[0m \u001b[1;36m0.01\u001b[0m\u001b[1;33m]\u001b[0m\u001b[1;33m\u001b[0m\u001b[1;33m\u001b[0m\u001b[0m\n\u001b[0;32m     13\u001b[0m \u001b[0mub\u001b[0m \u001b[1;33m=\u001b[0m \u001b[1;33m[\u001b[0m\u001b[1;36m1\u001b[0m\u001b[1;33m,\u001b[0m \u001b[1;36m3.99\u001b[0m\u001b[1;33m,\u001b[0m \u001b[1;36m10\u001b[0m\u001b[1;33m,\u001b[0m \u001b[1;36m2\u001b[0m\u001b[1;33m]\u001b[0m\u001b[1;33m\u001b[0m\u001b[1;33m\u001b[0m\u001b[0m\n\u001b[1;32m---> 14\u001b[1;33m \u001b[0mxopt\u001b[0m\u001b[1;33m,\u001b[0m \u001b[0mfopt\u001b[0m \u001b[1;33m=\u001b[0m \u001b[0mpso\u001b[0m\u001b[1;33m(\u001b[0m\u001b[0mnuSVCPso\u001b[0m\u001b[1;33m,\u001b[0m \u001b[0mlb\u001b[0m\u001b[1;33m,\u001b[0m \u001b[0mub\u001b[0m\u001b[1;33m,\u001b[0m \u001b[0momega\u001b[0m\u001b[1;33m=\u001b[0m\u001b[1;36m0.6\u001b[0m\u001b[1;33m,\u001b[0m \u001b[0mphip\u001b[0m\u001b[1;33m=\u001b[0m\u001b[1;36m0.6\u001b[0m\u001b[1;33m,\u001b[0m \u001b[0mphig\u001b[0m\u001b[1;33m=\u001b[0m\u001b[1;36m0.6\u001b[0m\u001b[1;33m,\u001b[0m \u001b[0mmaxiter\u001b[0m\u001b[1;33m=\u001b[0m\u001b[1;36m100\u001b[0m\u001b[1;33m,\u001b[0m \u001b[0mswarmsize\u001b[0m\u001b[1;33m=\u001b[0m\u001b[1;36m100\u001b[0m\u001b[1;33m)\u001b[0m\u001b[1;33m\u001b[0m\u001b[1;33m\u001b[0m\u001b[0m\n\u001b[0m\u001b[0;32m     15\u001b[0m \u001b[1;33m\u001b[0m\u001b[0m\n\u001b[0;32m     16\u001b[0m \u001b[0mprint\u001b[0m\u001b[1;33m(\u001b[0m\u001b[1;34m'The optimum is at:'\u001b[0m\u001b[1;33m)\u001b[0m\u001b[1;33m\u001b[0m\u001b[1;33m\u001b[0m\u001b[0m\n",
      "\u001b[1;32mc:\\users\\filip\\appdata\\local\\programs\\python\\python37-32\\lib\\site-packages\\pyswarm\\pso.py\u001b[0m in \u001b[0;36mpso\u001b[1;34m(func, lb, ub, ieqcons, f_ieqcons, args, kwargs, swarmsize, omega, phip, phig, maxiter, minstep, minfunc, debug)\u001b[0m\n\u001b[0;32m    109\u001b[0m \u001b[1;33m\u001b[0m\u001b[0m\n\u001b[0;32m    110\u001b[0m         \u001b[1;31m# Calculate the objective's value at the current particle's\u001b[0m\u001b[1;33m\u001b[0m\u001b[1;33m\u001b[0m\u001b[1;33m\u001b[0m\u001b[0m\n\u001b[1;32m--> 111\u001b[1;33m         \u001b[0mfp\u001b[0m\u001b[1;33m[\u001b[0m\u001b[0mi\u001b[0m\u001b[1;33m]\u001b[0m \u001b[1;33m=\u001b[0m \u001b[0mobj\u001b[0m\u001b[1;33m(\u001b[0m\u001b[0mp\u001b[0m\u001b[1;33m[\u001b[0m\u001b[0mi\u001b[0m\u001b[1;33m,\u001b[0m \u001b[1;33m:\u001b[0m\u001b[1;33m]\u001b[0m\u001b[1;33m)\u001b[0m\u001b[1;33m\u001b[0m\u001b[1;33m\u001b[0m\u001b[0m\n\u001b[0m\u001b[0;32m    112\u001b[0m \u001b[1;33m\u001b[0m\u001b[0m\n\u001b[0;32m    113\u001b[0m         \u001b[1;31m# At the start, there may not be any feasible starting point, so just\u001b[0m\u001b[1;33m\u001b[0m\u001b[1;33m\u001b[0m\u001b[1;33m\u001b[0m\u001b[0m\n",
      "\u001b[1;32mc:\\users\\filip\\appdata\\local\\programs\\python\\python37-32\\lib\\site-packages\\pyswarm\\pso.py\u001b[0m in \u001b[0;36m<lambda>\u001b[1;34m(x)\u001b[0m\n\u001b[0;32m     72\u001b[0m \u001b[1;33m\u001b[0m\u001b[0m\n\u001b[0;32m     73\u001b[0m     \u001b[1;31m# Check for constraint function(s) #########################################\u001b[0m\u001b[1;33m\u001b[0m\u001b[1;33m\u001b[0m\u001b[1;33m\u001b[0m\u001b[0m\n\u001b[1;32m---> 74\u001b[1;33m     \u001b[0mobj\u001b[0m \u001b[1;33m=\u001b[0m \u001b[1;32mlambda\u001b[0m \u001b[0mx\u001b[0m\u001b[1;33m:\u001b[0m \u001b[0mfunc\u001b[0m\u001b[1;33m(\u001b[0m\u001b[0mx\u001b[0m\u001b[1;33m,\u001b[0m \u001b[1;33m*\u001b[0m\u001b[0margs\u001b[0m\u001b[1;33m,\u001b[0m \u001b[1;33m**\u001b[0m\u001b[0mkwargs\u001b[0m\u001b[1;33m)\u001b[0m\u001b[1;33m\u001b[0m\u001b[1;33m\u001b[0m\u001b[0m\n\u001b[0m\u001b[0;32m     75\u001b[0m     \u001b[1;32mif\u001b[0m \u001b[0mf_ieqcons\u001b[0m \u001b[1;32mis\u001b[0m \u001b[1;32mNone\u001b[0m\u001b[1;33m:\u001b[0m\u001b[1;33m\u001b[0m\u001b[1;33m\u001b[0m\u001b[0m\n\u001b[0;32m     76\u001b[0m         \u001b[1;32mif\u001b[0m \u001b[1;32mnot\u001b[0m \u001b[0mlen\u001b[0m\u001b[1;33m(\u001b[0m\u001b[0mieqcons\u001b[0m\u001b[1;33m)\u001b[0m\u001b[1;33m:\u001b[0m\u001b[1;33m\u001b[0m\u001b[1;33m\u001b[0m\u001b[0m\n",
      "\u001b[1;32m<ipython-input-13-e748daf2f339>\u001b[0m in \u001b[0;36mnuSVCPso\u001b[1;34m(x)\u001b[0m\n\u001b[0;32m      8\u001b[0m                      max_iter=10000)\n\u001b[0;32m      9\u001b[0m \u001b[1;33m\u001b[0m\u001b[0m\n\u001b[1;32m---> 10\u001b[1;33m     \u001b[1;32mreturn\u001b[0m \u001b[1;33m-\u001b[0m \u001b[0mfit_and_test\u001b[0m\u001b[1;33m(\u001b[0m\u001b[0mnuSVCClf\u001b[0m\u001b[1;33m,\u001b[0m \u001b[1;34m'NuSVC'\u001b[0m\u001b[1;33m,\u001b[0m \u001b[0mlearn_data\u001b[0m\u001b[1;33m)\u001b[0m\u001b[1;33m\u001b[0m\u001b[1;33m\u001b[0m\u001b[0m\n\u001b[0m\u001b[0;32m     11\u001b[0m \u001b[1;33m\u001b[0m\u001b[0m\n\u001b[0;32m     12\u001b[0m \u001b[0mlb\u001b[0m \u001b[1;33m=\u001b[0m \u001b[1;33m[\u001b[0m\u001b[1;36m0.01\u001b[0m\u001b[1;33m,\u001b[0m \u001b[1;36m0\u001b[0m\u001b[1;33m,\u001b[0m \u001b[1;36m1\u001b[0m\u001b[1;33m,\u001b[0m \u001b[1;36m0.01\u001b[0m\u001b[1;33m]\u001b[0m\u001b[1;33m\u001b[0m\u001b[1;33m\u001b[0m\u001b[0m\n",
      "\u001b[1;32mD:\\Studies\\Studia mgr\\Magisterka\\implementacja\\helpers.py\u001b[0m in \u001b[0;36mfit_and_test\u001b[1;34m(clf, clf_name, data, show_graphics)\u001b[0m\n\u001b[0;32m     25\u001b[0m         \u001b[0my_train\u001b[0m\u001b[1;33m,\u001b[0m \u001b[0my_test\u001b[0m \u001b[1;33m=\u001b[0m \u001b[0mdata\u001b[0m\u001b[1;33m.\u001b[0m\u001b[0mY\u001b[0m\u001b[1;33m[\u001b[0m\u001b[0mtrain_index\u001b[0m\u001b[1;33m]\u001b[0m\u001b[1;33m,\u001b[0m \u001b[0mdata\u001b[0m\u001b[1;33m.\u001b[0m\u001b[0mY\u001b[0m\u001b[1;33m[\u001b[0m\u001b[0mtest_index\u001b[0m\u001b[1;33m]\u001b[0m\u001b[1;33m\u001b[0m\u001b[1;33m\u001b[0m\u001b[0m\n\u001b[0;32m     26\u001b[0m \u001b[1;33m\u001b[0m\u001b[0m\n\u001b[1;32m---> 27\u001b[1;33m         \u001b[0mclf\u001b[0m\u001b[1;33m.\u001b[0m\u001b[0mfit\u001b[0m\u001b[1;33m(\u001b[0m\u001b[0mX_train\u001b[0m\u001b[1;33m,\u001b[0m \u001b[0my_train\u001b[0m\u001b[1;33m)\u001b[0m\u001b[1;33m\u001b[0m\u001b[1;33m\u001b[0m\u001b[0m\n\u001b[0m\u001b[0;32m     28\u001b[0m \u001b[1;33m\u001b[0m\u001b[0m\n\u001b[0;32m     29\u001b[0m         \u001b[0my_pred\u001b[0m \u001b[1;33m=\u001b[0m \u001b[0mclf\u001b[0m\u001b[1;33m.\u001b[0m\u001b[0mpredict\u001b[0m\u001b[1;33m(\u001b[0m\u001b[0mX_test\u001b[0m\u001b[1;33m)\u001b[0m\u001b[1;33m\u001b[0m\u001b[1;33m\u001b[0m\u001b[0m\n",
      "\u001b[1;32m~\\AppData\\Roaming\\Python\\Python37\\site-packages\\sklearn\\svm\\base.py\u001b[0m in \u001b[0;36mfit\u001b[1;34m(self, X, y, sample_weight)\u001b[0m\n\u001b[0;32m    210\u001b[0m \u001b[1;33m\u001b[0m\u001b[0m\n\u001b[0;32m    211\u001b[0m         \u001b[0mseed\u001b[0m \u001b[1;33m=\u001b[0m \u001b[0mrnd\u001b[0m\u001b[1;33m.\u001b[0m\u001b[0mrandint\u001b[0m\u001b[1;33m(\u001b[0m\u001b[0mnp\u001b[0m\u001b[1;33m.\u001b[0m\u001b[0miinfo\u001b[0m\u001b[1;33m(\u001b[0m\u001b[1;34m'i'\u001b[0m\u001b[1;33m)\u001b[0m\u001b[1;33m.\u001b[0m\u001b[0mmax\u001b[0m\u001b[1;33m)\u001b[0m\u001b[1;33m\u001b[0m\u001b[1;33m\u001b[0m\u001b[0m\n\u001b[1;32m--> 212\u001b[1;33m         \u001b[0mfit\u001b[0m\u001b[1;33m(\u001b[0m\u001b[0mX\u001b[0m\u001b[1;33m,\u001b[0m \u001b[0my\u001b[0m\u001b[1;33m,\u001b[0m \u001b[0msample_weight\u001b[0m\u001b[1;33m,\u001b[0m \u001b[0msolver_type\u001b[0m\u001b[1;33m,\u001b[0m \u001b[0mkernel\u001b[0m\u001b[1;33m,\u001b[0m \u001b[0mrandom_seed\u001b[0m\u001b[1;33m=\u001b[0m\u001b[0mseed\u001b[0m\u001b[1;33m)\u001b[0m\u001b[1;33m\u001b[0m\u001b[1;33m\u001b[0m\u001b[0m\n\u001b[0m\u001b[0;32m    213\u001b[0m         \u001b[1;31m# see comment on the other call to np.iinfo in this file\u001b[0m\u001b[1;33m\u001b[0m\u001b[1;33m\u001b[0m\u001b[1;33m\u001b[0m\u001b[0m\n\u001b[0;32m    214\u001b[0m \u001b[1;33m\u001b[0m\u001b[0m\n",
      "\u001b[1;32m~\\AppData\\Roaming\\Python\\Python37\\site-packages\\sklearn\\svm\\base.py\u001b[0m in \u001b[0;36m_dense_fit\u001b[1;34m(self, X, y, sample_weight, solver_type, kernel, random_seed)\u001b[0m\n\u001b[0;32m    269\u001b[0m                 \u001b[0mcache_size\u001b[0m\u001b[1;33m=\u001b[0m\u001b[0mself\u001b[0m\u001b[1;33m.\u001b[0m\u001b[0mcache_size\u001b[0m\u001b[1;33m,\u001b[0m \u001b[0mcoef0\u001b[0m\u001b[1;33m=\u001b[0m\u001b[0mself\u001b[0m\u001b[1;33m.\u001b[0m\u001b[0mcoef0\u001b[0m\u001b[1;33m,\u001b[0m\u001b[1;33m\u001b[0m\u001b[1;33m\u001b[0m\u001b[0m\n\u001b[0;32m    270\u001b[0m                 \u001b[0mgamma\u001b[0m\u001b[1;33m=\u001b[0m\u001b[0mself\u001b[0m\u001b[1;33m.\u001b[0m\u001b[0m_gamma\u001b[0m\u001b[1;33m,\u001b[0m \u001b[0mepsilon\u001b[0m\u001b[1;33m=\u001b[0m\u001b[0mself\u001b[0m\u001b[1;33m.\u001b[0m\u001b[0mepsilon\u001b[0m\u001b[1;33m,\u001b[0m\u001b[1;33m\u001b[0m\u001b[1;33m\u001b[0m\u001b[0m\n\u001b[1;32m--> 271\u001b[1;33m                 max_iter=self.max_iter, random_seed=random_seed)\n\u001b[0m\u001b[0;32m    272\u001b[0m \u001b[1;33m\u001b[0m\u001b[0m\n\u001b[0;32m    273\u001b[0m         \u001b[0mself\u001b[0m\u001b[1;33m.\u001b[0m\u001b[0m_warn_from_fit_status\u001b[0m\u001b[1;33m(\u001b[0m\u001b[1;33m)\u001b[0m\u001b[1;33m\u001b[0m\u001b[1;33m\u001b[0m\u001b[0m\n",
      "\u001b[1;31mKeyboardInterrupt\u001b[0m: "
     ]
    }
   ],
   "source": [
    "def nuSVCPso(x):\n",
    "    kernels_list = ['linear', 'rbf', 'poly', 'sigmoid']\n",
    "    nuSVCClf = NuSVC(nu=x[0],\n",
    "                     kernel=kernels_list[int(x[1])],\n",
    "                     degree=x[2],\n",
    "                     gamma=x[3],\n",
    "                     random_state=1,\n",
    "                     max_iter=10000)\n",
    "\n",
    "    return - fit_and_test(nuSVCClf, 'NuSVC', learn_data)\n",
    "    \n",
    "lb = [0.01, 0, 1, 0.01]\n",
    "ub = [1, 3.99, 10, 2]\n",
    "xopt, fopt = pso(nuSVCPso, lb, ub, omega=0.6, phip=0.6, phig=0.6, maxiter=100, swarmsize=100)\n",
    "\n",
    "print('The optimum is at:')\n",
    "print('    {}'.format(xopt))\n",
    "print('Optimal function value:')\n",
    "print('    myfunc: {}'.format(fopt))"
   ]
  }
 ],
 "metadata": {
  "kernelspec": {
   "display_name": "Python 3",
   "language": "python",
   "name": "python3"
  },
  "language_info": {
   "codemirror_mode": {
    "name": "ipython",
    "version": 3
   },
   "file_extension": ".py",
   "mimetype": "text/x-python",
   "name": "python",
   "nbconvert_exporter": "python",
   "pygments_lexer": "ipython3",
   "version": "3.7.3"
  }
 },
 "nbformat": 4,
 "nbformat_minor": 2
}
